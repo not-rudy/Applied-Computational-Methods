{
  "nbformat": 4,
  "nbformat_minor": 0,
  "metadata": {
    "colab": {
      "provenance": [],
      "authorship_tag": "ABX9TyNY2zo27DRz5f2n5ubus6N4",
      "include_colab_link": true
    },
    "kernelspec": {
      "name": "python3",
      "display_name": "Python 3"
    },
    "language_info": {
      "name": "python"
    }
  },
  "cells": [
    {
      "cell_type": "markdown",
      "metadata": {
        "id": "view-in-github",
        "colab_type": "text"
      },
      "source": [
        "<a href=\"https://colab.research.google.com/github/not-rudy/Applied-Computational-Methods/blob/main/ModuleC.ipynb\" target=\"_parent\"><img src=\"https://colab.research.google.com/assets/colab-badge.svg\" alt=\"Open In Colab\"/></a>"
      ]
    },
    {
      "cell_type": "markdown",
      "source": [
        "Rudy Medrano"
      ],
      "metadata": {
        "id": "IkEtzA5yMmkF"
      }
    },
    {
      "cell_type": "markdown",
      "source": [
        "Module C"
      ],
      "metadata": {
        "id": "mQrtVP8bMv7N"
      }
    },
    {
      "cell_type": "markdown",
      "source": [
        "19.1 Root Finding Problem Statement"
      ],
      "metadata": {
        "id": "SrbVaO2yM0-e"
      }
    },
    {
      "cell_type": "markdown",
      "source": [
        "Root Finding Problem Statement: The roots/zeroes of a function f(x), are a value xr, such that f(xr) = 0. However, there is a difficulty determining an analytic or exact solution for the roots of a function; such as f(x) = cos(x) -x.\n",
        "In this cases, it is useful to generate numerical approximations of the solutions. It is also useful to understand the limitations."
      ],
      "metadata": {
        "id": "z7uZSErQNw6X"
      }
    },
    {
      "cell_type": "code",
      "source": [
        "# Root Finding Example\n",
        "\n",
        "import numpy as np\n",
        "from scipy import optimize\n",
        "\n",
        "f= lambda x: np.cos(x) - x\n",
        "r = optimize.fsolve(f, -2)\n",
        "print(\"r = \", r)\n",
        "\n",
        "result = f(r)\n",
        "print(\"result = \", result)"
      ],
      "metadata": {
        "colab": {
          "base_uri": "https://localhost:8080/"
        },
        "id": "UPdnyHmlOV_Z",
        "outputId": "0d58c93f-1755-4d48-8d64-8270519c522b"
      },
      "execution_count": 1,
      "outputs": [
        {
          "output_type": "stream",
          "name": "stdout",
          "text": [
            "r =  [0.73908513]\n",
            "result =  [0.]\n"
          ]
        }
      ]
    },
    {
      "cell_type": "markdown",
      "source": [
        "The above example just computed the root of f(x) = cos(x) -x, near -2. It gave us a result close enough to 0 to be a root.\n",
        "In the next example we will compute the root of a function with no root."
      ],
      "metadata": {
        "id": "T_0tXzogPYFJ"
      }
    },
    {
      "cell_type": "code",
      "source": [
        "# Finding Root of Function with No Root\n",
        "\n",
        "import numpy as np\n",
        "from scipy import optimize\n",
        "\n",
        "f = lambda x: 1/x\n",
        "\n",
        "r, infodict, ier, mesg = optimize.fsolve(f, -2, full_output=True)\n",
        "print(\"r = \", r)\n",
        "\n",
        "result = f(r)\n",
        "print(\"result = \", result)\n",
        "print (mesg)"
      ],
      "metadata": {
        "colab": {
          "base_uri": "https://localhost:8080/"
        },
        "id": "RxGwE3KfPpee",
        "outputId": "683c8a9d-397c-4ac4-bfce-2f90f9e1d37b"
      },
      "execution_count": 4,
      "outputs": [
        {
          "output_type": "stream",
          "name": "stdout",
          "text": [
            "r =  [-3.52047359e+83]\n",
            "result =  [-2.84052692e-84]\n",
            "The number of calls to function has reached maxfev = 400.\n"
          ]
        }
      ]
    },
    {
      "cell_type": "markdown",
      "source": [
        "The r value which this code returned is not a root. Although the returned value is a very small number, it failed to be a root.The full_output command paired with mesg, is there to print out an error message if no solution was found. This is why it then prints out the number of calls to function reached maxfev =400. This simply means that it attempted the maximum amount of trials to find a root and no root was found."
      ],
      "metadata": {
        "id": "A8bT1v9mQDmr"
      }
    },
    {
      "cell_type": "markdown",
      "source": [
        "19.2 Tolerance"
      ],
      "metadata": {
        "id": "YzZFyKQgQkXx"
      }
    },
    {
      "cell_type": "markdown",
      "source": [
        "Tolerance: the level or error that is acceptable for an engineering application\n",
        "\n",
        "Error: a deviation from an expected or computed value\n",
        "\n",
        "Converged: When a computer program has found a solution with an error smaller than the tolerance"
      ],
      "metadata": {
        "id": "pHPoGYU0Qm7W"
      }
    },
    {
      "cell_type": "markdown",
      "source": [
        "Tolerance When Computing: When computing roots we want a value xr such that f(xr) is very close to zero. This means we need the absolute value of f(x) as a measure of error due to its value. As the magnitude of f(x) gets smaller and smaller, its more likely to be a root.\n",
        "\n",
        "We can also use the magnitude |xi+1 -xi| to measure error since we expect improvement between subsequent guesses to diminish as it approaches a solution."
      ],
      "metadata": {
        "id": "yJJ53MSKSKbd"
      }
    },
    {
      "cell_type": "code",
      "source": [],
      "metadata": {
        "id": "mvVO4-XFfIPk"
      },
      "execution_count": null,
      "outputs": []
    },
    {
      "cell_type": "markdown",
      "source": [
        "19.3 Bisection Method"
      ],
      "metadata": {
        "id": "duqw3XCMfQfe"
      }
    },
    {
      "cell_type": "markdown",
      "source": [
        "Bisection Method: the use of the intermediate value theorem to iteratively find roots.\n",
        "\n",
        "According to the intermediate value theorem, there must be a root in the open interval (a,b) if f(a) > 0 anbd f(b) < 0.\n",
        "\n",
        "Now if we let m = (b+a)/2 be the midpoint between a and b; and f(m) < 0, then m is an improvement on the right bound b; and it is guaranteed that there is a root in the open interval (a,m).\n",
        "\n",
        "This process can be repeated by updating the values a and b until the error is acceptably low."
      ],
      "metadata": {
        "id": "f53YABcIfUrH"
      }
    },
    {
      "cell_type": "code",
      "source": [
        "# Example of Bisection Method\n",
        "# This program will use a function that approximates a root r of f, bounded by (a,b) within a tolerance.\n",
        "import numpy as np\n",
        "\n",
        "def bisect(f, a, b, tol):\n",
        "  if np.sign(f(a)) == np.sign(f(b)):\n",
        "    raise Exception(\n",
        "      \"The scalars a and b do not bound a root\")\n",
        "\n",
        "  m = (a + b)/2\n",
        "\n",
        "  if np.abs(f(m)) < tol:\n",
        "    return m\n",
        "  elif np.sign(f(a)) == np.sign(f(m)):\n",
        "    return bisect(f, m, b, tol)\n",
        "  elif np.sign(f(b)) == np.sign(f(m)):\n",
        "    return bisect(f, a, m, tol)\n",
        "\n",
        "f = lambda x: x**2 - 2\n",
        "\n",
        "r1 = bisect(f, 0, 2, 0.1)\n",
        "print(\"r1 = \", r1)\n",
        "r01 = bisect(f, 0, 2, 0.01)\n",
        "print(\"r01 = \", r01)\n",
        "\n",
        "print(\"f(r1) =\", f(r1))\n",
        "print(\"f(r01) =\", f(r01))\n"
      ],
      "metadata": {
        "colab": {
          "base_uri": "https://localhost:8080/"
        },
        "id": "tY7z0pTqgLAe",
        "outputId": "2650329a-a4dd-45b3-a9fe-d13f55eb7153"
      },
      "execution_count": 28,
      "outputs": [
        {
          "output_type": "stream",
          "name": "stdout",
          "text": [
            "r1 =  1.4375\n",
            "r01 =  1.4140625\n",
            "f(r1) = 0.06640625\n",
            "f(r01) = -0.00042724609375\n"
          ]
        }
      ]
    },
    {
      "cell_type": "markdown",
      "source": [
        "19.4 Newton-Raphson Method"
      ],
      "metadata": {
        "id": "zQkX1S6dlDrl"
      }
    },
    {
      "cell_type": "markdown",
      "source": [
        "Newton-Raphson Method: Let f(x) be a smooth function, and xr be an unknown root of f(x). We can assume that x0 is a guess for xr; and that f(x0) will not be a root.\n",
        "\n",
        "In this scenario, we will need to find a value x1 that is an improvement on x0. If we assume that x0 is \"close enough\" to xr, we can improve upon it by taking the linear approximation of f(x) around x0. This linear approximation is a line, which intersects with the x-axis.\n",
        "\n",
        "The equation:\n",
        "\n",
        "![image.png](data:image/png;base64,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)\n",
        "\n",
        "Solving for x1 yields:\n",
        "\n",
        "![image.png](data:image/png;base64,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)\n",
        "\n",
        "Newton Step: Computes an improved guess, xi, using a previous guess, xi-1, and is given by the equation:\n",
        "\n",
        "![image.png](data:image/png;base64,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)\n",
        "\n",
        "Newton-Raphson Method: iterations of Newton steps from x0 until the error is less than the tolerance."
      ],
      "metadata": {
        "id": "ErBW5sHOnLHd"
      }
    },
    {
      "cell_type": "code",
      "source": [
        "# Example of Newton-Raphson\n",
        "# We will be using sqrt(2) as the root of the function f(x) = x**2 -2. We can use x0 = 1.4 as a starting point.\n",
        "\n",
        "import numpy as np\n",
        "\n",
        "f = lambda x: x**2 - 2\n",
        "f_prime = lambda x: 2*x\n",
        "newton_raphson = 1.4 - (f(1.4))/(f_prime(1.4))\n",
        "\n",
        "print(\"newton_raphson =\", newton_raphson)\n",
        "print(\"sqrt(2) =\", np.sqrt(2))\n",
        "\n",
        "def newton(f, df, x0, tol):\n",
        "  if abs(f(x0)) < tol:\n",
        "    return x0\n",
        "  else:\n",
        "    return newton(f, df, x0 - f(x0)/df(x0), tol)\n",
        "\n",
        "estimate = newton(f, f_prime, 1.5, 1e-6)\n",
        "print(\"estimate =\", estimate)\n",
        "print(\"sqrt(2) =\", np.sqrt(2))"
      ],
      "metadata": {
        "colab": {
          "base_uri": "https://localhost:8080/"
        },
        "id": "KODfsFa-oTPy",
        "outputId": "e80551bf-0faf-40ef-f263-b8b138ec9ec7"
      },
      "execution_count": 36,
      "outputs": [
        {
          "output_type": "stream",
          "name": "stdout",
          "text": [
            "newton_raphson = 1.4142857142857144\n",
            "sqrt(2) = 1.4142135623730951\n",
            "estimate = 1.4142135623746899\n",
            "sqrt(2) = 1.4142135623730951\n"
          ]
        }
      ]
    },
    {
      "cell_type": "markdown",
      "source": [
        "19.5 Root Finding in Python"
      ],
      "metadata": {
        "id": "zsdjmJSHpQcL"
      }
    },
    {
      "cell_type": "markdown",
      "source": [
        "Root Finding: Python has a builtin function f_solve from scipy.optimize, which we can use to find roots.\n",
        "\n",
        "The f_solve function takes in many arguments that include: the function and the initial guess."
      ],
      "metadata": {
        "id": "gK642frzpUIu"
      }
    },
    {
      "cell_type": "code",
      "source": [
        "# Root Finding in Python using f_solve\n",
        "\n",
        "from scipy.optimize import fsolve\n",
        "\n",
        "f = lambda x: x**4 - 200*x**2 -x + 50\n",
        "fsolve(f, [1, 100])\n"
      ],
      "metadata": {
        "colab": {
          "base_uri": "https://localhost:8080/"
        },
        "id": "EX246JtnoYrL",
        "outputId": "8439fb96-f7d7-49aa-8e6d-f48f9e723f1d"
      },
      "execution_count": 39,
      "outputs": [
        {
          "output_type": "execute_result",
          "data": {
            "text/plain": [
              "array([ 0.49781322, 14.13578855])"
            ]
          },
          "metadata": {},
          "execution_count": 39
        }
      ]
    },
    {
      "cell_type": "code",
      "source": [],
      "metadata": {
        "id": "PaTzaRNOpk5m"
      },
      "execution_count": null,
      "outputs": []
    }
  ]
}