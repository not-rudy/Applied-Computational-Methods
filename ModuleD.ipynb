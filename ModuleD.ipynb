{
  "nbformat": 4,
  "nbformat_minor": 0,
  "metadata": {
    "colab": {
      "provenance": [],
      "authorship_tag": "ABX9TyNeLsCTNbw14OkDfen1gu04",
      "include_colab_link": true
    },
    "kernelspec": {
      "name": "python3",
      "display_name": "Python 3"
    },
    "language_info": {
      "name": "python"
    }
  },
  "cells": [
    {
      "cell_type": "markdown",
      "metadata": {
        "id": "view-in-github",
        "colab_type": "text"
      },
      "source": [
        "<a href=\"https://colab.research.google.com/github/not-rudy/Applied-Computational-Methods/blob/main/ModuleD.ipynb\" target=\"_parent\"><img src=\"https://colab.research.google.com/assets/colab-badge.svg\" alt=\"Open In Colab\"/></a>"
      ]
    },
    {
      "cell_type": "markdown",
      "source": [
        "Rudy Medrano"
      ],
      "metadata": {
        "id": "V3iVQIjhBq4s"
      }
    },
    {
      "cell_type": "markdown",
      "source": [
        "Module D"
      ],
      "metadata": {
        "id": "z1dAUgVZBuh3"
      }
    },
    {
      "cell_type": "markdown",
      "source": [
        "1.1 Introduction to Linear Algebra"
      ],
      "metadata": {
        "id": "NwsSpZUBBwR2"
      }
    },
    {
      "cell_type": "markdown",
      "source": [
        "Linear Algebra: Field of mathematics used in a variety of disciplites. Plays an important role in data science and machine learning.\n",
        "\n",
        "Being able to understand linear algebra concepts can enhance the understanding of machine learning and data science algorithms. This chapter will go over basic concepts of linear algebra."
      ],
      "metadata": {
        "id": "42sMS3FUCFiH"
      }
    },
    {
      "cell_type": "markdown",
      "source": [
        "1.2 Elements of Linear Algebra"
      ],
      "metadata": {
        "id": "OJW2WEf1Dpv5"
      }
    },
    {
      "cell_type": "markdown",
      "source": [
        "1.2.1 Linear Spaces"
      ],
      "metadata": {
        "id": "9II3B89zDupK"
      }
    },
    {
      "cell_type": "markdown",
      "source": [
        "1.2.1.1 Linear Combinations"
      ],
      "metadata": {
        "id": "0r_iTevFEL7a"
      }
    },
    {
      "cell_type": "markdown",
      "source": [
        "Linear Combination: A new vector constructed from a subset by multiplying each vector by a constant and adding the results.\n",
        "\n",
        "Linear Subspace: A subset of all linear combinations. The set that can be reached through a combination of scalar multiplication and and vector addition. The 0 vector is in all linear subspaces.\n",
        "\n",
        "Span: The set of all linear sombinations, which span a linear subspace.\n",
        "\n",
        "Column Space: The span of all the columns of a matrix.\n"
      ],
      "metadata": {
        "id": "3Th06ppyEPI4"
      }
    },
    {
      "cell_type": "markdown",
      "source": [
        "1.2.1.2 Linear Independence and Dimension"
      ],
      "metadata": {
        "id": "nAPihE9-MKkR"
      }
    },
    {
      "cell_type": "markdown",
      "source": [
        "Linear Independence: A set of vectors is linearly independent if there is no combination of scalars such that the sum of the scaled vectors is the zero vector. There has to be at least one(1) non-zero scalar.\n",
        "\n",
        "Basis: A basis of a subspace is a set of vectors that are linearly independent and span all of the subspace.\n",
        "\n",
        "Dimension Theorem: All bases of U have the same length, that is, the same number of elements. The dimension is the number of elements."
      ],
      "metadata": {
        "id": "fVIP5-qaz859"
      }
    },
    {
      "cell_type": "markdown",
      "source": [
        "1.2.2 Orthogonality"
      ],
      "metadata": {
        "id": "TypXbhBa2msY"
      }
    },
    {
      "cell_type": "markdown",
      "source": [
        "The use of Orthogonality: Orthogonal bases can greatly simplify mathematical representations and reveal more insights of underlying problems."
      ],
      "metadata": {
        "id": "nNDC_fj72otX"
      }
    },
    {
      "cell_type": "markdown",
      "source": [
        "1.2.2.1 Orthonormal Bases"
      ],
      "metadata": {
        "id": "eDQmYn4L2zac"
      }
    },
    {
      "cell_type": "markdown",
      "source": [
        "Orthonormal: A list of vectors whose sum is the zero (0) vector and each vector has a magnitude of one (1)."
      ],
      "metadata": {
        "id": "-KkLv_zA29d4"
      }
    },
    {
      "cell_type": "markdown",
      "source": [
        "1.2.2.2 Best Approximation Theorem"
      ],
      "metadata": {
        "id": "nF3k3a1g3UMh"
      }
    },
    {
      "cell_type": "markdown",
      "source": [
        "Best Approximation Theorem: Let U ⊆ V be a linear subspace with orthonormal basis q1,...,qm let v ∊ V. For any u ∊ U. ||v-Pu v|| <= ||v-u||.\n",
        "\n",
        "Pythagorean Theorem: Let u1 v ∊ V be orthogonal. Then ||u + v||^2 = ||u||^2 + ||v||^2\n",
        "\n",
        "Cauchy-Schwarz: For any u1 v ∊ V , |<u,v>| <= ||u|| ||v||\n",
        "\n",
        "1.2.3 Gram-Schmidt Process\n",
        "\n",
        "Gram-Schmidt: et a1,...,am in R^n be linearly independent. Then there exists an orthonormal basis, q1,...,qm of span(a1,...,am).\n",
        "\n",
        "1.2.4 Eigenvalues and eigenvectors\n",
        "\n",
        "Eigenvalues and Eigenvectors: Let A ∊ R^(dxd) be a square matrix. Then 𝜆 ∊ R is an eigenvalue of A if there exists a non-zero vector x != 0 such that Ax = 𝜆x. Vector x is an eigenvector.\n",
        "\n",
        "1.2.4.1 Diagonalization of Symmetric Matrices\n",
        "\n",
        "Diagonal and Similar Matrices: Let A be similar to a matrix D = diag(𝜆1,...,𝜆d) with distinct diagonal entries, that exists a non-singular matric A such that A = PDP^-1\n",
        "\n",
        "If A is symmetric, then any 2 eigenvectors from different eigenspaces are orthogonal.\n"
      ],
      "metadata": {
        "id": "enYudJjK3YDE"
      }
    },
    {
      "cell_type": "markdown",
      "source": [
        "1.3 Linear Regression\n",
        "\n",
        "\n",
        "Linear Regression: A way to determine the statistical properites of resulting estimators in a linear model.\n",
        "\n",
        "1.3.1 QR Decomposition\n",
        "\n",
        "\n",
        "QR Decomposition:"
      ],
      "metadata": {
        "id": "rJC2OGS045a9"
      }
    },
    {
      "cell_type": "markdown",
      "source": [],
      "metadata": {
        "id": "TXuiIhDN31_z"
      }
    },
    {
      "cell_type": "code",
      "source": [],
      "metadata": {
        "id": "putOUdGGCXKJ"
      },
      "execution_count": null,
      "outputs": []
    }
  ]
}