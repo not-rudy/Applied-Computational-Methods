{
  "nbformat": 4,
  "nbformat_minor": 0,
  "metadata": {
    "colab": {
      "provenance": [],
      "authorship_tag": "ABX9TyOunmih0KuwXkAATYHt5MPZ",
      "include_colab_link": true
    },
    "kernelspec": {
      "name": "python3",
      "display_name": "Python 3"
    },
    "language_info": {
      "name": "python"
    }
  },
  "cells": [
    {
      "cell_type": "markdown",
      "metadata": {
        "id": "view-in-github",
        "colab_type": "text"
      },
      "source": [
        "<a href=\"https://colab.research.google.com/github/not-rudy/Applied-Computational-Methods/blob/main/ModuleE.ipynb\" target=\"_parent\"><img src=\"https://colab.research.google.com/assets/colab-badge.svg\" alt=\"Open In Colab\"/></a>"
      ]
    },
    {
      "cell_type": "markdown",
      "source": [
        "Rudy Medrano\n"
      ],
      "metadata": {
        "id": "BeY5uJofdbn_"
      }
    },
    {
      "cell_type": "markdown",
      "source": [
        "Module E"
      ],
      "metadata": {
        "id": "u8JO58QwdcQh"
      }
    },
    {
      "cell_type": "markdown",
      "source": [
        "**3.2 Continuity and Differentiation**"
      ],
      "metadata": {
        "id": "A6tRgLbbdhpr"
      }
    },
    {
      "cell_type": "markdown",
      "source": [
        "**3.2.1 Limits and Continuity**\\\n",
        "**Limits**: Essential to calculus and are used to define continuity, derivatives, and integrals."
      ],
      "metadata": {
        "id": "rmAvtZ8rd_vf"
      }
    },
    {
      "cell_type": "code",
      "execution_count": 12,
      "metadata": {
        "colab": {
          "base_uri": "https://localhost:8080/"
        },
        "id": "dAHi5hLZdYij",
        "outputId": "538e0ee5-8971-41c1-81a5-1ca62c6e4a76"
      },
      "outputs": [
        {
          "output_type": "stream",
          "name": "stdout",
          "text": [
            "Equation: sin(x)/(3*x)\n",
            "Limits: 0 : 1/3\n"
          ]
        }
      ],
      "source": [
        "## Example of Limits\n",
        "from sympy import * # Imports Necessary Library\n",
        "\n",
        "x = symbols('x')\n",
        "Equation = sin(x)/(3*x) # Equation\n",
        "\n",
        "print(\"Equation: {}\".format(Equation))\n",
        "\n",
        "limits = limit(Equation, x, 0) # Solves for the limits from 0 to x\n",
        "print(\"Limits: 0 : {}\".format(limits)) # Prints the Limits of the given equation"
      ]
    },
    {
      "cell_type": "markdown",
      "source": [
        "**Derivatives**: The derivative of a function of a real variable measures the sensitivity to change the function value (ouput value) with respect to another variable."
      ],
      "metadata": {
        "id": "2TGjnwhkfuPw"
      }
    },
    {
      "cell_type": "code",
      "source": [
        "## Ecample of Power Rule\n",
        "\n",
        "x = symbols('x')\n",
        "\n",
        "f = x**3 + 2*x # Establish Equation\n",
        "\n",
        "derivative = f.diff(x) # Solves for the derivative using Power Rule\n",
        "\n",
        "print(\"Power Rule Derivative: {}\".format(derivative))  # Prints out Power rule Derivative of given function"
      ],
      "metadata": {
        "colab": {
          "base_uri": "https://localhost:8080/"
        },
        "id": "FBqwg6d7jmDa",
        "outputId": "1c45319f-645a-4603-8427-db55a5514f60"
      },
      "execution_count": 24,
      "outputs": [
        {
          "output_type": "stream",
          "name": "stdout",
          "text": [
            "Power Rule Derivative: 3*x**2 + 2\n"
          ]
        }
      ]
    },
    {
      "cell_type": "code",
      "source": [
        "## Example of Partial Derivatives\n",
        "\n",
        "from sympy import * # Imports Necessary Library\n",
        "\n",
        "x = symbols('x')\n",
        "\n",
        "f = x**2 # Establish Equation\n",
        "\n",
        "derivative = diff(f, x) # Solves for the derivative with respect to x\n",
        "\n",
        "print(\"Partial Derivative: {}\".format(derivative))  # Prints out Partial Derivative of given function\n",
        "\n"
      ],
      "metadata": {
        "colab": {
          "base_uri": "https://localhost:8080/"
        },
        "id": "UPP3I4Ulghe-",
        "outputId": "e3fe7346-b66c-425c-c36e-f1257b0db879"
      },
      "execution_count": 25,
      "outputs": [
        {
          "output_type": "stream",
          "name": "stdout",
          "text": [
            "Partial Derivative: 2*x\n"
          ]
        }
      ]
    },
    {
      "cell_type": "code",
      "source": [
        "## Example of Chain Rule\n",
        "\n",
        "from sympy import * # Imports Necessary Library\n",
        "\n",
        "x = symbols('x')\n",
        "\n",
        "f = cos(x**2) # Establish Equation\n",
        "\n",
        "derivative = f.diff(x) # Solves for the derivative with respect to x\n",
        "\n",
        "print(\"Chain Rule Derivative: {}\".format(derivative))  # Prints out Chain Rule"
      ],
      "metadata": {
        "colab": {
          "base_uri": "https://localhost:8080/"
        },
        "id": "N62uXXtrkL4R",
        "outputId": "8148890d-921f-4cd5-a259-b5f552c6cb68"
      },
      "execution_count": 27,
      "outputs": [
        {
          "output_type": "stream",
          "name": "stdout",
          "text": [
            "Chain Rule Derivative: -2*x*sin(x**2)\n"
          ]
        }
      ]
    },
    {
      "cell_type": "markdown",
      "source": [
        "**Taylor's Theorem**: Gives an approximation of a differentiable function around a given point by a polynomial."
      ],
      "metadata": {
        "id": "STq32qmtkbfk"
      }
    },
    {
      "cell_type": "code",
      "source": [
        "## Example of Taylor's Theorem\n",
        "\n",
        "import sympy as sp # Neccesary Library\n",
        "\n",
        "# Define the variable and function\n",
        "x = sp.symbols('x')\n",
        "f = sp.sin(x)\n",
        "\n",
        "# Define the point around which to approximate\n",
        "a = 0\n",
        "\n",
        "# Define the degree of the Taylor polynomial\n",
        "n = 5\n",
        "\n",
        "# Calculate the Taylor series expansion\n",
        "taylor_series = sp.series(f, x, a, n).removeO()\n",
        "\n",
        "# Print the Taylor series expansion\n",
        "print(f\"The Taylor series expansion of sin(x) around x={a} up to degree {n} is:\")\n",
        "print(taylor_series)\n"
      ],
      "metadata": {
        "colab": {
          "base_uri": "https://localhost:8080/"
        },
        "id": "UwUMMy20lbkY",
        "outputId": "272d528e-8b62-4a7e-9165-781920970af2"
      },
      "execution_count": 29,
      "outputs": [
        {
          "output_type": "stream",
          "name": "stdout",
          "text": [
            "The Taylor series expansion of sin(x) around x=0 up to degree 5 is:\n",
            "-x**3/6 + x\n"
          ]
        }
      ]
    },
    {
      "cell_type": "markdown",
      "source": [
        "**3.3 Unconstrained Optimization**"
      ],
      "metadata": {
        "id": "ByUNk3i8kknp"
      }
    },
    {
      "cell_type": "code",
      "source": [
        "## Example of Unconstrained Optimization\n",
        "\n",
        "# Neccesary Libraries\n",
        "import numpy as np\n",
        "import matplotlib.pyplot as plt\n",
        "\n",
        "# Initiate\n",
        "x = np.linspace(1, 10, 50)\n",
        "f = np.log(x)\n",
        "plt.plot(x, f, color = (1,0,1))\n",
        "plt.grid()\n",
        "plt.xlabel('x')\n",
        "plt.ylabel('ln(x)')\n",
        "a = 2\n",
        "b = 7\n",
        "lam = 0.4\n",
        "c = lam* a + (1-lam)*b\n",
        "f_a = np.log(a)\n",
        "f_b = np.log(b)\n",
        "f_c = lam*f_a + (1-lam)*f_b\n",
        "fcc = lam *f_a + (1-lam)* f_b\n",
        "\n",
        "# Plotting\n",
        "plt.plot([a,a], [0, f_a])\n",
        "plt.plot([b,b], [0, f_b])\n",
        "plt.plot([c,c], [0, f_c])\n",
        "plt.plot([c,c], [0, fcc])\n",
        "plt.plot([a,b], [f_a, f_b]) #  connects point @ x = 2 and 7\n",
        "plt.show()"
      ],
      "metadata": {
        "colab": {
          "base_uri": "https://localhost:8080/",
          "height": 449
        },
        "id": "tepP3DdonPFJ",
        "outputId": "3c818bc0-28a2-4e1d-b828-6b9bfc2be71e"
      },
      "execution_count": 35,
      "outputs": [
        {
          "output_type": "display_data",
          "data": {
            "text/plain": [
              "<Figure size 640x480 with 1 Axes>"
            ],
            "image/png": "[encoded data removed]"
          },
          "metadata": {}
        }
      ]
    }
  ]
}