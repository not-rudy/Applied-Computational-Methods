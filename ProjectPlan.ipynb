{
  "nbformat": 4,
  "nbformat_minor": 0,
  "metadata": {
    "colab": {
      "provenance": [],
      "authorship_tag": "ABX9TyM01FFhISm7cIrlr4WtPZGT",
      "include_colab_link": true
    },
    "kernelspec": {
      "name": "python3",
      "display_name": "Python 3"
    },
    "language_info": {
      "name": "python"
    }
  },
  "cells": [
    {
      "cell_type": "markdown",
      "metadata": {
        "id": "view-in-github",
        "colab_type": "text"
      },
      "source": [
        "<a href=\"https://colab.research.google.com/github/not-rudy/Applied-Computational-Methods/blob/main/ProjectPlan.ipynb\" target=\"_parent\"><img src=\"https://colab.research.google.com/assets/colab-badge.svg\" alt=\"Open In Colab\"/></a>"
      ]
    },
    {
      "cell_type": "markdown",
      "source": [
        "**Project Plan**\n"
      ],
      "metadata": {
        "id": "q6ePpG_gypo2"
      }
    },
    {
      "cell_type": "markdown",
      "source": [
        "**Estimating Missing Temperature Values Using Interpolation and Regression Methods**"
      ],
      "metadata": {
        "id": "IhWaun5mzz3j"
      }
    },
    {
      "cell_type": "markdown",
      "source": [
        "**A. Research Objective**\n",
        "\n"
      ],
      "metadata": {
        "id": "vCAdd-18yyXC"
      }
    },
    {
      "cell_type": "markdown",
      "source": [
        "  The goal of this project is to develop a proper method for estimating the missing temperature values in climate datasets. The purpose of this study is to implement the following three techniques: Lagrange Interpolation, Spline Interpolation, and Polynomial Regression. This study will determine which method most accurately predicts missing data so that climate data records can remain reliable. Haviong an accurate representation of temperature data is crucial for the following applications: Climate Studies, Weather Forecasting, and Policy Decisions. Improving the quality of data is essential in those applications mentioned above."
      ],
      "metadata": {
        "id": "YF1uoUfUz6ul"
      }
    },
    {
      "cell_type": "markdown",
      "source": [
        "**B. Literature Review**"
      ],
      "metadata": {
        "id": "NyU5m6IXzLNd"
      }
    },
    {
      "cell_type": "markdown",
      "source": [
        "Previous studies have used various methods to address missing data in environmental datasets. The methods which will be used in this study include a wide range of ways to study a dataset. Lagrange Interpolation creates one polynomial that passes through every known data point, but can be unstable when data points are not spaced evenly. Spline Interpolation uses piecewise polynomials that are connceted smoothly, which will often result in better performance when given irregular data. Polynomial Regression often fits an overal polynomial to the entire dataset, but is met with the challenge of choosing the correct polynomial degree, which can lead to overfitting or underfitting of the data. Although there do exist studies on these individual methoids, few have directly compared the accuracy of each methoid in regards to temperature data imputation. This project fills that gap by evaluating and comparing the performance of each method on the same dataset."
      ],
      "metadata": {
        "id": "TwMh76n37QHJ"
      }
    },
    {
      "cell_type": "markdown",
      "source": [
        "**C. Hypothesis / Research Questions**"
      ],
      "metadata": {
        "id": "kCh3XDmtzZeu"
      }
    },
    {
      "cell_type": "markdown",
      "source": [
        "This study will hypothesize that Spline Interpolation will provide the most accurate estimation of the missing temperature values. The reasoning behind this hypothesis is thbat spline interpolation can handle irregular data more effectively and will produce smoother transitions when compared to the other two methods. To test the hypothesis, several research questions need to be addressed. The research questions are as follows: Which method produces predictions closest to the actual temperature readings? How will each method perform when different percentages of data are missing? and Which method is the most robust when the dataset given contains noise and irregularities? To address these questions, the computational efficiency of the methods will be compared to see if there is a significant difference in their accuracy and processing times."
      ],
      "metadata": {
        "id": "c-ljsG3c_2pt"
      }
    },
    {
      "cell_type": "markdown",
      "source": [
        "**D. Methodology**\n"
      ],
      "metadata": {
        "id": "DLsZmdjMzhsZ"
      }
    },
    {
      "cell_type": "markdown",
      "source": [
        "This study will consist of the following approach: Data collection and preparation, missing data simulation, computational method implementation, and method analysis. The dataset for this study will be collected from historical temperature data sources such as Kaggle and Datahub. The missing data will be simulated by deliberately removing some temperature readings so that we have a known reference for later comparison. Each of our computational methods will be implemented to estimate the missing values. For Lagrange Interpolation, a single polynomial will be calculated such that it passes through the known data points and uses it as a reference to estimate the missing values. For Spline Interpolation, cubic splines will be applied to generate smooth, connected curves between the datapoints. For Polynomial Regression, a polynomial curve will be fitted to the complete dataset, and the best degree of the polynomial will be determined using cross-validation. All implementations will be done using Python and its libraries such as NumpY, SciPy, and pandas for data handling, matplot lib and seaborn for visualizations, and scikit-learn for regression analysis."
      ],
      "metadata": {
        "id": "s_6kFtSLA4aH"
      }
    },
    {
      "cell_type": "markdown",
      "source": [
        "**E. Data Collection**"
      ],
      "metadata": {
        "id": "F1UliZvAzk4W"
      }
    },
    {
      "cell_type": "markdown",
      "source": [
        "Global temperature records will be used in this study. These will be obtained from Kaggle (i.e. the Global Earth Temperatures Dataset), and additional data from Datahub. The data will be imported into Python using pandas, inconsistencies will be removed and outliers will be addressed. After the dataset is cleaned up, the missing values will be simulated by masking selected data points. This will enable the comparison of the interpolation methods mentioned before. These methods will be compared against the known actual values and their accuracy will be assessed using standard error metrics."
      ],
      "metadata": {
        "id": "SBUxbSVmDh3Z"
      }
    },
    {
      "cell_type": "markdown",
      "source": [
        "**F. Analysis Plan**"
      ],
      "metadata": {
        "id": "-DZ5aXwOznqF"
      }
    },
    {
      "cell_type": "markdown",
      "source": [
        "In comparison of the three methods, error metrics such as Mean Absolute Error (MAE), Root Mean Square Error (RMSE), and the coefficient of determination (R^2) will be used. These metrics will help in quantifying how close each method's estimates are to the true temperature values. The results will be plotted in graphs thaqt show both the actual and estimated temperature trends over time. Box plots or histograms will be used to illustrate the distribution of errors. Sensitivity analysis will be performed by varying the proportion of missing data to see how each method performed under different conditions. Finally, each computation method's efficiency will be evalutated by recording their processing times during execution."
      ],
      "metadata": {
        "id": "SOi9aJVFHh0u"
      }
    },
    {
      "cell_type": "markdown",
      "source": [
        "**G. Team Roles and Responsibilities**"
      ],
      "metadata": {
        "id": "FjZTH02ZzqWY"
      }
    },
    {
      "cell_type": "markdown",
      "source": [
        "This study will be conducted independently. I will be responsible for all aspects of the project. I will manage the overall project, including: data collection and preprocessing, interpolation method implementation, result analysis, and report complilation. I will also review relevant literature to support the methodology and ensure the report is clear and accurate."
      ],
      "metadata": {
        "id": "vY-wKzFXIXwa"
      }
    },
    {
      "cell_type": "markdown",
      "source": [],
      "metadata": {
        "id": "kTN-RwsaJlOu"
      }
    },
    {
      "cell_type": "markdown",
      "source": [],
      "metadata": {
        "id": "8vBp1fj-zvak"
      }
    }
  ]
}