{
  "nbformat": 4,
  "nbformat_minor": 0,
  "metadata": {
    "colab": {
      "provenance": [],
      "authorship_tag": "ABX9TyNSNgw6plP0nVrN5xqgDe5b",
      "include_colab_link": true
    },
    "kernelspec": {
      "name": "python3",
      "display_name": "Python 3"
    },
    "language_info": {
      "name": "python"
    }
  },
  "cells": [
    {
      "cell_type": "markdown",
      "metadata": {
        "id": "view-in-github",
        "colab_type": "text"
      },
      "source": [
        "<a href=\"https://colab.research.google.com/github/not-rudy/Applied-Computational-Methods/blob/main/ModuleA.ipynb\" target=\"_parent\"><img src=\"https://colab.research.google.com/assets/colab-badge.svg\" alt=\"Open In Colab\"/></a>"
      ]
    },
    {
      "cell_type": "markdown",
      "source": [
        "Rudy Medrano"
      ],
      "metadata": {
        "id": "CVxRvl_AhgBq"
      }
    },
    {
      "cell_type": "markdown",
      "source": [
        "Module A"
      ],
      "metadata": {
        "id": "fk15ZDePo2XJ"
      }
    },
    {
      "cell_type": "markdown",
      "source": [
        "9.1 Base-N and Binary\n"
      ],
      "metadata": {
        "id": "iUFh_sUzo6R9"
      }
    },
    {
      "cell_type": "markdown",
      "source": [
        "Decimal System: Represents numbers by a list of digits from 0 to 9. Also known as the base10 system; meaning each digit represents the coefficient to the power or 10."
      ],
      "metadata": {
        "id": "JI-K4QMdr5kq"
      }
    },
    {
      "cell_type": "code",
      "source": [
        "\n",
        "D = 143 # Represents Decimal Number\n",
        "Verify = D == 1*(10**2) + 4*(10**1) + 3*(10**0) # Verifies Decimal Number\n",
        "\n",
        "print(Verify) # Prints \"True if Decimal = base10, this proves the base10 is equal to the Decimal.\"\n"
      ],
      "metadata": {
        "colab": {
          "base_uri": "https://localhost:8080/"
        },
        "id": "HjaWGPkwo9hi",
        "outputId": "701d8142-1dea-4f77-8d6c-910a2c8bb1cc"
      },
      "execution_count": null,
      "outputs": [
        {
          "output_type": "stream",
          "name": "stdout",
          "text": [
            "True\n"
          ]
        }
      ]
    },
    {
      "cell_type": "markdown",
      "source": [
        "Binary System: Only available digits are 0 and 1. base2 system; meaning each digit represents the coefficient to the power of 2.**bold text**"
      ],
      "metadata": {
        "id": "Y1S2a_Qxuu6t"
      }
    },
    {
      "cell_type": "code",
      "source": [
        "Binary = bin(D)[2:] # Represents Binary Number, bin(n) converts to Binary, [2;] removes 0b prefix.\n",
        "Verify = int(Binary,2) == 1*(2**7) + 0*(2**6) + 0*(2**5) + 0*(2**4) + 1*(2**3) + 1*(2**2) + 1*(2**1) + 1*(2**0) # Converts Binary String back to its decimal equivalent and Verifies Binary\n",
        "\n",
        "print(Verify) # Prints \"True if Binary = base2, this proves the base2 is equal to the Binary.\"\n",
        "print(f\"Binary Represenation of {D} is: {Binary}\")"
      ],
      "metadata": {
        "colab": {
          "base_uri": "https://localhost:8080/"
        },
        "id": "FHZYbp5dsuQv",
        "outputId": "0f9266cb-1564-47ca-f900-ae0e6071ea03"
      },
      "execution_count": null,
      "outputs": [
        {
          "output_type": "stream",
          "name": "stdout",
          "text": [
            "True\n",
            "Binary Represenation of 143 is: 10001111\n"
          ]
        }
      ]
    },
    {
      "cell_type": "markdown",
      "source": [
        "Binary Addition"
      ],
      "metadata": {
        "id": "mrLu8VqMw6Lh"
      }
    },
    {
      "cell_type": "code",
      "source": [
        "A = 10  # Establishes first value\n",
        "B = 12  # Establishes second value\n",
        "Sum = A + B  # Calculate the sum\n",
        "print(f\"{Sum:b}\")  # Print the sum in Binary format\n",
        "print(f\"{Sum}\") # Print the sum in Decimal format\n"
      ],
      "metadata": {
        "colab": {
          "base_uri": "https://localhost:8080/"
        },
        "id": "VajJe1EqxE_g",
        "outputId": "6858c92a-4eb7-4916-d457-c01d063b3fb5"
      },
      "execution_count": 15,
      "outputs": [
        {
          "output_type": "stream",
          "name": "stdout",
          "text": [
            "10110\n",
            "22\n"
          ]
        }
      ]
    },
    {
      "cell_type": "markdown",
      "source": [
        "Binary Multiplication"
      ],
      "metadata": {
        "id": "9maTpA3WBu6x"
      }
    },
    {
      "cell_type": "code",
      "source": [
        "A = 10  # Establishes first value\n",
        "B = 12  # Establishes second value\n",
        "Product = A * B  # Calculate the sum\n",
        "print(f\"{Product:b}\")  # Print the Product in Binary format\n",
        "print(f\"{Product}\") # Print the Product in Decimal format"
      ],
      "metadata": {
        "colab": {
          "base_uri": "https://localhost:8080/"
        },
        "id": "dZGgGz-aBxXb",
        "outputId": "e8e8a0d9-6970-4e15-ca46-e68166429f7f"
      },
      "execution_count": 1,
      "outputs": [
        {
          "output_type": "stream",
          "name": "stdout",
          "text": [
            "1111000\n",
            "120\n"
          ]
        }
      ]
    },
    {
      "cell_type": "markdown",
      "source": [
        "9.2 Floating Point Numbers"
      ],
      "metadata": {
        "id": "kPeC8wzTj9xE"
      }
    },
    {
      "cell_type": "markdown",
      "source": [
        "Floats: Used to achieve the range of values needed wtih the same number of bits. The number of bits is usually fixed for any given computer. (Python Programming)\n",
        "\n",
        "Floats allocate bits to three different parts.\n",
        "\n",
        "Sign Indicator (s): determines wether number is positive or negative\n",
        "Characteristic (e): the power of 2\n",
        "Fraction (f): the coefficient of the exponent"
      ],
      "metadata": {
        "id": "dXcIWDqUkIHu"
      }
    },
    {
      "cell_type": "code",
      "source": [
        "import sys\n",
        "sys.float_info"
      ],
      "metadata": {
        "colab": {
          "base_uri": "https://localhost:8080/"
        },
        "id": "N1X_TV_clWtd",
        "outputId": "bc51f1e7-08d3-4c1b-fe42-30f43551a473"
      },
      "execution_count": 2,
      "outputs": [
        {
          "output_type": "execute_result",
          "data": {
            "text/plain": [
              "sys.float_info(max=1.7976931348623157e+308, max_exp=1024, max_10_exp=308, min=2.2250738585072014e-308, min_exp=-1021, min_10_exp=-307, dig=15, mant_dig=53, epsilon=2.220446049250313e-16, radix=2, rounds=1)"
            ]
          },
          "metadata": {},
          "execution_count": 2
        }
      ]
    },
    {
      "cell_type": "markdown",
      "source": [
        "Floats are represented as n = (-1)^s * 2^(e-1023) * (1+f), when used in a 64-bit computer.\n"
      ],
      "metadata": {
        "id": "hco3kgb9mSp3"
      }
    },
    {
      "cell_type": "markdown",
      "source": [
        "Gap: The distance from one number to the text. The fraction is multiplied by 2^(e-1023), so the gap grows as the represented number grows."
      ],
      "metadata": {
        "id": "7BczthWTpS22"
      }
    },
    {
      "cell_type": "code",
      "source": [
        "import numpy as np #\n",
        "x = 2e10\n",
        "np.spacing(x) #Function used to compute the gap at given number x."
      ],
      "metadata": {
        "colab": {
          "base_uri": "https://localhost:8080/"
        },
        "id": "_aIpFlh9przi",
        "outputId": "2b9b3732-c797-4d1a-a117-e6821003eb7d"
      },
      "execution_count": 11,
      "outputs": [
        {
          "output_type": "execute_result",
          "data": {
            "text/plain": [
              "3.814697265625e-06"
            ]
          },
          "metadata": {},
          "execution_count": 11
        }
      ]
    },
    {
      "cell_type": "code",
      "source": [
        "2e10 == (x + np.spacing(x)/3) # Verifies that adding a number to x that is less than half the gap at x results in the same number."
      ],
      "metadata": {
        "colab": {
          "base_uri": "https://localhost:8080/"
        },
        "id": "MaTy0QaKqM7x",
        "outputId": "1e6fc49d-287e-4b9c-bb47-dd2361493665"
      },
      "execution_count": 10,
      "outputs": [
        {
          "output_type": "execute_result",
          "data": {
            "text/plain": [
              "True"
            ]
          },
          "metadata": {},
          "execution_count": 10
        }
      ]
    },
    {
      "cell_type": "markdown",
      "source": [
        "Subnormal Number: the result when e=0 and when e=2047. The leading 1 in the fraction takes the value 0 instead.\n",
        "Computed by: n = (-1)^2 * 2^(-1022) * (0+f)\n"
      ],
      "metadata": {
        "id": "qQ56YNDvq6hS"
      }
    },
    {
      "cell_type": "code",
      "source": [
        "s = 1\n",
        "f = 0\n",
        "e = 2047\n",
        "n = (-1)**s * 2**(-1022) * (0+f)\n",
        "print(f\"{n}\")"
      ],
      "metadata": {
        "colab": {
          "base_uri": "https://localhost:8080/"
        },
        "id": "7lYIEBKTr3so",
        "outputId": "f5ab2da8-a96a-4d77-b56a-ee80ddcfbb68"
      },
      "execution_count": 28,
      "outputs": [
        {
          "output_type": "stream",
          "name": "stdout",
          "text": [
            "-0.0\n"
          ]
        }
      ]
    },
    {
      "cell_type": "markdown",
      "source": [
        "9.3 Round-Off Errors\n"
      ],
      "metadata": {
        "id": "tSAymLmPttLH"
      }
    },
    {
      "cell_type": "markdown",
      "source": [
        "round-off error: the difference between an approximation of a number used in computation and it's true value.\n"
      ],
      "metadata": {
        "id": "-Wl-pkGktw7m"
      }
    },
    {
      "cell_type": "markdown",
      "source": [
        "Using Floating-Point and Rounding\n"
      ],
      "metadata": {
        "id": "sks4ZXUMuUtD"
      }
    },
    {
      "cell_type": "code",
      "source": [
        "8-7.845 == 0.155 # Prints \"False\" if the value is an approximation\n"
      ],
      "metadata": {
        "colab": {
          "base_uri": "https://localhost:8080/"
        },
        "id": "rjzXs8e8uXRf",
        "outputId": "a9db31d9-6082-4de1-fa41-aa1d8038f4bf"
      },
      "execution_count": 33,
      "outputs": [
        {
          "output_type": "execute_result",
          "data": {
            "text/plain": [
              "False"
            ]
          },
          "metadata": {},
          "execution_count": 33
        }
      ]
    },
    {
      "cell_type": "code",
      "source": [
        "round(8-7.845, 5) == round(0.155, 5) # Prints \"True\" if the rounded values are equivalent."
      ],
      "metadata": {
        "colab": {
          "base_uri": "https://localhost:8080/"
        },
        "id": "6xN__lZNvj8A",
        "outputId": "b6a4363d-ef18-4f93-95b8-e2d830eca237"
      },
      "execution_count": 35,
      "outputs": [
        {
          "output_type": "execute_result",
          "data": {
            "text/plain": [
              "True"
            ]
          },
          "metadata": {},
          "execution_count": 35
        }
      ]
    }
  ]
}