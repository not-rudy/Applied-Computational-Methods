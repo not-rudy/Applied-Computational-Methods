{
  "nbformat": 4,
  "nbformat_minor": 0,
  "metadata": {
    "colab": {
      "provenance": [],
      "authorship_tag": "ABX9TyNNe+wg4rF+j4FRInKHA66E",
      "include_colab_link": true
    },
    "kernelspec": {
      "name": "python3",
      "display_name": "Python 3"
    },
    "language_info": {
      "name": "python"
    }
  },
  "cells": [
    {
      "cell_type": "markdown",
      "metadata": {
        "id": "view-in-github",
        "colab_type": "text"
      },
      "source": [
        "<a href=\"https://colab.research.google.com/github/not-rudy/Applied-Computational-Methods/blob/main/ModuleA.ipynb\" target=\"_parent\"><img src=\"https://colab.research.google.com/assets/colab-badge.svg\" alt=\"Open In Colab\"/></a>"
      ]
    },
    {
      "cell_type": "markdown",
      "source": [
        "Rudy Medrano"
      ],
      "metadata": {
        "id": "CVxRvl_AhgBq"
      }
    },
    {
      "cell_type": "code",
      "source": [],
      "metadata": {
        "id": "_NSi8vMUip-8"
      },
      "execution_count": null,
      "outputs": []
    }
  ]
}