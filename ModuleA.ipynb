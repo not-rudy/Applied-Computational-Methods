{
  "nbformat": 4,
  "nbformat_minor": 0,
  "metadata": {
    "colab": {
      "provenance": [],
      "authorship_tag": "ABX9TyPpuqbhYk580JJJrCQZx7y7",
      "include_colab_link": true
    },
    "kernelspec": {
      "name": "python3",
      "display_name": "Python 3"
    },
    "language_info": {
      "name": "python"
    }
  },
  "cells": [
    {
      "cell_type": "markdown",
      "metadata": {
        "id": "view-in-github",
        "colab_type": "text"
      },
      "source": [
        "<a href=\"https://colab.research.google.com/github/not-rudy/Applied-Computational-Methods/blob/main/ModuleA.ipynb\" target=\"_parent\"><img src=\"https://colab.research.google.com/assets/colab-badge.svg\" alt=\"Open In Colab\"/></a>"
      ]
    },
    {
      "cell_type": "markdown",
      "source": [
        "Rudy Medrano"
      ],
      "metadata": {
        "id": "CVxRvl_AhgBq"
      }
    },
    {
      "cell_type": "markdown",
      "source": [
        "Module A"
      ],
      "metadata": {
        "id": "fk15ZDePo2XJ"
      }
    },
    {
      "cell_type": "markdown",
      "source": [
        "9.1 Base-N and Binary\n"
      ],
      "metadata": {
        "id": "iUFh_sUzo6R9"
      }
    },
    {
      "cell_type": "code",
      "source": [
        "D = 143 #Represents Decimal Number\n",
        "Binary = bin(D)[2:] #Represents Binary Number\n",
        "\n",
        "print(f\"Binary Represenation of {D} is: {Binary}\")"
      ],
      "metadata": {
        "colab": {
          "base_uri": "https://localhost:8080/"
        },
        "id": "HjaWGPkwo9hi",
        "outputId": "abc139f8-32e8-4963-d553-0196148b9222"
      },
      "execution_count": 14,
      "outputs": [
        {
          "output_type": "stream",
          "name": "stdout",
          "text": [
            "Binary Represenation of 143 is: 10001111\n"
          ]
        }
      ]
    }
  ]
}