{
  "nbformat": 4,
  "nbformat_minor": 0,
  "metadata": {
    "colab": {
      "provenance": [],
      "authorship_tag": "ABX9TyPYdunAk+zFrsy3wTls6SDg",
      "include_colab_link": true
    },
    "kernelspec": {
      "name": "python3",
      "display_name": "Python 3"
    },
    "language_info": {
      "name": "python"
    }
  },
  "cells": [
    {
      "cell_type": "markdown",
      "metadata": {
        "id": "view-in-github",
        "colab_type": "text"
      },
      "source": [
        "<a href=\"https://colab.research.google.com/github/not-rudy/Applied-Computational-Methods/blob/main/ModuleA.ipynb\" target=\"_parent\"><img src=\"https://colab.research.google.com/assets/colab-badge.svg\" alt=\"Open In Colab\"/></a>"
      ]
    },
    {
      "cell_type": "markdown",
      "source": [
        "Rudy Medrano"
      ],
      "metadata": {
        "id": "CVxRvl_AhgBq"
      }
    },
    {
      "cell_type": "markdown",
      "source": [
        "Module A"
      ],
      "metadata": {
        "id": "fk15ZDePo2XJ"
      }
    },
    {
      "cell_type": "markdown",
      "source": [
        "9.1 Base-N and Binary\n"
      ],
      "metadata": {
        "id": "iUFh_sUzo6R9"
      }
    },
    {
      "cell_type": "markdown",
      "source": [
        "Decimal System: Represents numbers by a list of digits from 0 to 9. Also known as the base10 system."
      ],
      "metadata": {
        "id": "JI-K4QMdr5kq"
      }
    },
    {
      "cell_type": "code",
      "source": [
        "\n",
        "D = 143 #Represents Decimal Number\n",
        "Verify = D == 1*(10**2) + 4*(10**1) + 3*(10**0) #Verifies Decimal Number\n",
        "Binary = bin(D)[2:] #Represents Binary Number\n",
        "\n"
      ],
      "metadata": {
        "colab": {
          "base_uri": "https://localhost:8080/"
        },
        "id": "HjaWGPkwo9hi",
        "outputId": "3c5ab0b1-e95f-498c-e42f-049bc8d961e4"
      },
      "execution_count": 18,
      "outputs": [
        {
          "output_type": "stream",
          "name": "stdout",
          "text": [
            "Binary Represenation of 143 is: 10001111\n",
            "True\n"
          ]
        }
      ]
    },
    {
      "cell_type": "code",
      "source": [
        "print(f\"Binary Represenation of {D} is: {Binary}\")\n",
        "print(Verify)"
      ],
      "metadata": {
        "id": "FHZYbp5dsuQv"
      },
      "execution_count": null,
      "outputs": []
    }
  ]
}