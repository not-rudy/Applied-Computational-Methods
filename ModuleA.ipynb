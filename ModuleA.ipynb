{
  "nbformat": 4,
  "nbformat_minor": 0,
  "metadata": {
    "colab": {
      "provenance": [],
      "authorship_tag": "ABX9TyNWzMPEf71S8zuQqWdEzfWG",
      "include_colab_link": true
    },
    "kernelspec": {
      "name": "python3",
      "display_name": "Python 3"
    },
    "language_info": {
      "name": "python"
    }
  },
  "cells": [
    {
      "cell_type": "markdown",
      "metadata": {
        "id": "view-in-github",
        "colab_type": "text"
      },
      "source": [
        "<a href=\"https://colab.research.google.com/github/not-rudy/Applied-Computational-Methods/blob/main/ModuleA.ipynb\" target=\"_parent\"><img src=\"https://colab.research.google.com/assets/colab-badge.svg\" alt=\"Open In Colab\"/></a>"
      ]
    },
    {
      "cell_type": "markdown",
      "source": [
        "Rudy Medrano"
      ],
      "metadata": {
        "id": "CVxRvl_AhgBq"
      }
    },
    {
      "cell_type": "markdown",
      "source": [
        "Module A"
      ],
      "metadata": {
        "id": "fk15ZDePo2XJ"
      }
    },
    {
      "cell_type": "markdown",
      "source": [
        "9.1 Base-N and Binary\n"
      ],
      "metadata": {
        "id": "iUFh_sUzo6R9"
      }
    },
    {
      "cell_type": "markdown",
      "source": [
        "Decimal System: Represents numbers by a list of digits from 0 to 9. Also known as the base10 system; meaning each digit represents the coefficient to the power or 10."
      ],
      "metadata": {
        "id": "JI-K4QMdr5kq"
      }
    },
    {
      "cell_type": "code",
      "source": [
        "\n",
        "D = 143 # Represents Decimal Number\n",
        "Verify = D == 1*(10**2) + 4*(10**1) + 3*(10**0) # Verifies Decimal Number\n",
        "\n",
        "print(Verify) # Prints \"True if Decimal = base10, this proves the base10 is equal to the Decimal.\"\n"
      ],
      "metadata": {
        "colab": {
          "base_uri": "https://localhost:8080/"
        },
        "id": "HjaWGPkwo9hi",
        "outputId": "701d8142-1dea-4f77-8d6c-910a2c8bb1cc"
      },
      "execution_count": 29,
      "outputs": [
        {
          "output_type": "stream",
          "name": "stdout",
          "text": [
            "True\n"
          ]
        }
      ]
    },
    {
      "cell_type": "markdown",
      "source": [
        "Binary System: Only available digits are 0 and 1. base2 system; meaning each digit represents the coefficient to the power of 2.**bold text**"
      ],
      "metadata": {
        "id": "Y1S2a_Qxuu6t"
      }
    },
    {
      "cell_type": "code",
      "source": [
        "Binary = bin(D)[2:] # Represents Binary Number, bin(n) converts to Binary, [2;] removes 0b prefix.\n",
        "Verify = int(Binary,2) == 1*(2**7) + 0*(2**6) + 0*(2**5) + 0*(2**4) + 1*(2**3) + 1*(2**2) + 1*(2**1) + 1*(2**0) # Converts Binary String back to its decimal equivalent and Verifies Binary\n",
        "\n",
        "print(Verify) # Prints \"True if Binary = base2, this proves the base2 is equal to the Binary.\"\n",
        "print(f\"Binary Represenation of {D} is: {Binary}\")"
      ],
      "metadata": {
        "colab": {
          "base_uri": "https://localhost:8080/"
        },
        "id": "FHZYbp5dsuQv",
        "outputId": "0f9266cb-1564-47ca-f900-ae0e6071ea03"
      },
      "execution_count": 37,
      "outputs": [
        {
          "output_type": "stream",
          "name": "stdout",
          "text": [
            "True\n",
            "Binary Represenation of 143 is: 10001111\n"
          ]
        }
      ]
    },
    {
      "cell_type": "markdown",
      "source": [
        "Binary Addition"
      ],
      "metadata": {
        "id": "mrLu8VqMw6Lh"
      }
    },
    {
      "cell_type": "code",
      "source": [
        "A = 10  # Establishes first value\n",
        "B = 12  # Establishes second value\n",
        "Sum = A + B  # Calculate the sum\n",
        "print(f\"{Sum:b}\")  # Print the sum in Binary format\n",
        "print(f\"{Sum}\") # Print the sum in Decimal format\n"
      ],
      "metadata": {
        "colab": {
          "base_uri": "https://localhost:8080/"
        },
        "id": "VajJe1EqxE_g",
        "outputId": "b88e2e31-b91c-431f-d382-3176180da1f8"
      },
      "execution_count": 49,
      "outputs": [
        {
          "output_type": "stream",
          "name": "stdout",
          "text": [
            "10110\n",
            "22\n"
          ]
        }
      ]
    }
  ]
}