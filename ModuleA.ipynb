{
  "nbformat": 4,
  "nbformat_minor": 0,
  "metadata": {
    "colab": {
      "provenance": [],
      "authorship_tag": "ABX9TyMP24QWFhYDBN9Jo1qPvm5a",
      "include_colab_link": true
    },
    "kernelspec": {
      "name": "python3",
      "display_name": "Python 3"
    },
    "language_info": {
      "name": "python"
    }
  },
  "cells": [
    {
      "cell_type": "markdown",
      "metadata": {
        "id": "view-in-github",
        "colab_type": "text"
      },
      "source": [
        "<a href=\"https://colab.research.google.com/github/not-rudy/Applied-Computational-Methods/blob/main/ModuleA.ipynb\" target=\"_parent\"><img src=\"https://colab.research.google.com/assets/colab-badge.svg\" alt=\"Open In Colab\"/></a>"
      ]
    },
    {
      "cell_type": "markdown",
      "source": [
        "Rudy Medrano"
      ],
      "metadata": {
        "id": "CVxRvl_AhgBq"
      }
    },
    {
      "cell_type": "markdown",
      "source": [
        "Module A"
      ],
      "metadata": {
        "id": "fk15ZDePo2XJ"
      }
    },
    {
      "cell_type": "markdown",
      "source": [
        "9.1 Base-N and Binary\n"
      ],
      "metadata": {
        "id": "iUFh_sUzo6R9"
      }
    },
    {
      "cell_type": "markdown",
      "source": [
        "Decimal System: Represents numbers by a list of digits from 0 to 9. Also known as the base10 system; meaning each digit represents the coefficient to the power or 10."
      ],
      "metadata": {
        "id": "JI-K4QMdr5kq"
      }
    },
    {
      "cell_type": "code",
      "source": [
        "\n",
        "D = 143 # Represents Decimal Number\n",
        "Verify = D == 1*(10**2) + 4*(10**1) + 3*(10**0) # Verifies Decimal Number\n",
        "\n",
        "print(Verify) # Prints \"True if Decimal = base10, this proves the base10 is equal to the Decimal.\"\n"
      ],
      "metadata": {
        "colab": {
          "base_uri": "https://localhost:8080/"
        },
        "id": "HjaWGPkwo9hi",
        "outputId": "701d8142-1dea-4f77-8d6c-910a2c8bb1cc"
      },
      "execution_count": null,
      "outputs": [
        {
          "output_type": "stream",
          "name": "stdout",
          "text": [
            "True\n"
          ]
        }
      ]
    },
    {
      "cell_type": "markdown",
      "source": [
        "Binary System: Only available digits are 0 and 1. base2 system; meaning each digit represents the coefficient to the power of 2.**bold text**"
      ],
      "metadata": {
        "id": "Y1S2a_Qxuu6t"
      }
    },
    {
      "cell_type": "code",
      "source": [
        "Binary = bin(D)[2:] # Represents Binary Number, bin(n) converts to Binary, [2;] removes 0b prefix.\n",
        "Verify = int(Binary,2) == 1*(2**7) + 0*(2**6) + 0*(2**5) + 0*(2**4) + 1*(2**3) + 1*(2**2) + 1*(2**1) + 1*(2**0) # Converts Binary String back to its decimal equivalent and Verifies Binary\n",
        "\n",
        "print(Verify) # Prints \"True if Binary = base2, this proves the base2 is equal to the Binary.\"\n",
        "print(f\"Binary Represenation of {D} is: {Binary}\")"
      ],
      "metadata": {
        "colab": {
          "base_uri": "https://localhost:8080/"
        },
        "id": "FHZYbp5dsuQv",
        "outputId": "0f9266cb-1564-47ca-f900-ae0e6071ea03"
      },
      "execution_count": null,
      "outputs": [
        {
          "output_type": "stream",
          "name": "stdout",
          "text": [
            "True\n",
            "Binary Represenation of 143 is: 10001111\n"
          ]
        }
      ]
    },
    {
      "cell_type": "markdown",
      "source": [
        "Binary Addition"
      ],
      "metadata": {
        "id": "mrLu8VqMw6Lh"
      }
    },
    {
      "cell_type": "code",
      "source": [
        "A = 10  # Establishes first value\n",
        "B = 12  # Establishes second value\n",
        "Sum = A + B  # Calculate the sum\n",
        "print(f\"{Sum:b}\")  # Print the sum in Binary format\n",
        "print(f\"{Sum}\") # Print the sum in Decimal format\n"
      ],
      "metadata": {
        "colab": {
          "base_uri": "https://localhost:8080/"
        },
        "id": "VajJe1EqxE_g",
        "outputId": "6858c92a-4eb7-4916-d457-c01d063b3fb5"
      },
      "execution_count": 15,
      "outputs": [
        {
          "output_type": "stream",
          "name": "stdout",
          "text": [
            "10110\n",
            "22\n"
          ]
        }
      ]
    },
    {
      "cell_type": "markdown",
      "source": [
        "Binary Multiplication"
      ],
      "metadata": {
        "id": "9maTpA3WBu6x"
      }
    },
    {
      "cell_type": "code",
      "source": [
        "A = 10  # Establishes first value\n",
        "B = 12  # Establishes second value\n",
        "Product = A * B  # Calculate the sum\n",
        "print(f\"{Product:b}\")  # Print the Product in Binary format\n",
        "print(f\"{Product}\") # Print the Product in Decimal format"
      ],
      "metadata": {
        "colab": {
          "base_uri": "https://localhost:8080/"
        },
        "id": "dZGgGz-aBxXb",
        "outputId": "e8e8a0d9-6970-4e15-ca46-e68166429f7f"
      },
      "execution_count": 1,
      "outputs": [
        {
          "output_type": "stream",
          "name": "stdout",
          "text": [
            "1111000\n",
            "120\n"
          ]
        }
      ]
    },
    {
      "cell_type": "markdown",
      "source": [
        "9.2 Floating Point Numbers"
      ],
      "metadata": {
        "id": "kPeC8wzTj9xE"
      }
    },
    {
      "cell_type": "markdown",
      "source": [
        "Floats: Used to achieve the range of values needed wtih the same number of bits. The number of bits is usually fixed for any given computer. (Python Programming)\n",
        "\n",
        "Floats allocate bits to three different parts.\n",
        "\n",
        "Sign Indicator (s): determines wether number is positive or negative\n",
        "Characteristic (e): the power of 2\n",
        "Fraction (f): the coefficient of the exponent"
      ],
      "metadata": {
        "id": "dXcIWDqUkIHu"
      }
    },
    {
      "cell_type": "code",
      "source": [
        "import sys\n",
        "sys.float_info"
      ],
      "metadata": {
        "colab": {
          "base_uri": "https://localhost:8080/"
        },
        "id": "N1X_TV_clWtd",
        "outputId": "bc51f1e7-08d3-4c1b-fe42-30f43551a473"
      },
      "execution_count": 2,
      "outputs": [
        {
          "output_type": "execute_result",
          "data": {
            "text/plain": [
              "sys.float_info(max=1.7976931348623157e+308, max_exp=1024, max_10_exp=308, min=2.2250738585072014e-308, min_exp=-1021, min_10_exp=-307, dig=15, mant_dig=53, epsilon=2.220446049250313e-16, radix=2, rounds=1)"
            ]
          },
          "metadata": {},
          "execution_count": 2
        }
      ]
    },
    {
      "cell_type": "markdown",
      "source": [
        "Floats are represented as n = (-1)^s * 2^(e-1023) * (1+f), when used in a 64-bit computer.\n"
      ],
      "metadata": {
        "id": "hco3kgb9mSp3"
      }
    },
    {
      "cell_type": "markdown",
      "source": [
        "Gap: The distance from one number to the text. The fraction is multiplied by 2^(e-1023), so the gap grows as the represented number grows."
      ],
      "metadata": {
        "id": "7BczthWTpS22"
      }
    },
    {
      "cell_type": "code",
      "source": [
        "import numpy as np #\n",
        "x = 2e10\n",
        "np.spacing(x) #Function used to compute the gap at given number x."
      ],
      "metadata": {
        "colab": {
          "base_uri": "https://localhost:8080/"
        },
        "id": "_aIpFlh9przi",
        "outputId": "2b9b3732-c797-4d1a-a117-e6821003eb7d"
      },
      "execution_count": 11,
      "outputs": [
        {
          "output_type": "execute_result",
          "data": {
            "text/plain": [
              "3.814697265625e-06"
            ]
          },
          "metadata": {},
          "execution_count": 11
        }
      ]
    },
    {
      "cell_type": "code",
      "source": [
        "2e10 == (x + np.spacing(x)/3) # Verifies that adding a number to x that is less than half the gap at x results in the same number."
      ],
      "metadata": {
        "colab": {
          "base_uri": "https://localhost:8080/"
        },
        "id": "MaTy0QaKqM7x",
        "outputId": "1e6fc49d-287e-4b9c-bb47-dd2361493665"
      },
      "execution_count": 10,
      "outputs": [
        {
          "output_type": "execute_result",
          "data": {
            "text/plain": [
              "True"
            ]
          },
          "metadata": {},
          "execution_count": 10
        }
      ]
    },
    {
      "cell_type": "markdown",
      "source": [
        "Subnormal Number: the result when e=0 and when e=2047. The leading 1 in the fraction takes the value 0 instead.\n",
        "Computed by: n = (-1)^2 * 2^(-1022) * (0+f)\n"
      ],
      "metadata": {
        "id": "qQ56YNDvq6hS"
      }
    },
    {
      "cell_type": "code",
      "source": [
        "l =(2**(2046-1023))*((1+ sum(0.5**np.arange(1,53))))\n",
        "l"
      ],
      "metadata": {
        "colab": {
          "base_uri": "https://localhost:8080/"
        },
        "id": "7lYIEBKTr3so",
        "outputId": "755c7f5d-895a-44e8-99ed-ef8b6d561182"
      },
      "execution_count": 74,
      "outputs": [
        {
          "output_type": "execute_result",
          "data": {
            "text/plain": [
              "1.7976931348623157e+308"
            ]
          },
          "metadata": {},
          "execution_count": 74
        }
      ]
    },
    {
      "cell_type": "code",
      "source": [
        "sys.float_info.max # Prints out the maximum value"
      ],
      "metadata": {
        "colab": {
          "base_uri": "https://localhost:8080/"
        },
        "id": "M993hTKS7nk2",
        "outputId": "ce01741b-1c48-4a31-a46a-71d77d767fa4"
      },
      "execution_count": 75,
      "outputs": [
        {
          "output_type": "execute_result",
          "data": {
            "text/plain": [
              "1.7976931348623157e+308"
            ]
          },
          "metadata": {},
          "execution_count": 75
        }
      ]
    },
    {
      "cell_type": "code",
      "source": [
        "sys.float_info.min # Prints out the minimum value."
      ],
      "metadata": {
        "colab": {
          "base_uri": "https://localhost:8080/"
        },
        "id": "aKUpY8Ea7qo1",
        "outputId": "e3a75d16-89da-4706-f62a-213f9dec81d5"
      },
      "execution_count": 76,
      "outputs": [
        {
          "output_type": "execute_result",
          "data": {
            "text/plain": [
              "2.2250738585072014e-308"
            ]
          },
          "metadata": {},
          "execution_count": 76
        }
      ]
    },
    {
      "cell_type": "code",
      "source": [
        "s = (2**(1-1023))*(1+0)\n",
        "s"
      ],
      "metadata": {
        "colab": {
          "base_uri": "https://localhost:8080/"
        },
        "id": "MSx--sXF8EYW",
        "outputId": "359e81b3-e7ed-4ebb-9215-5bcfc0ed85e2"
      },
      "execution_count": 77,
      "outputs": [
        {
          "output_type": "execute_result",
          "data": {
            "text/plain": [
              "2.2250738585072014e-308"
            ]
          },
          "metadata": {},
          "execution_count": 77
        }
      ]
    },
    {
      "cell_type": "markdown",
      "source": [
        "Overflow: Largest floating point number capable of being represented"
      ],
      "metadata": {
        "id": "bb9xKZKS81f6"
      }
    },
    {
      "cell_type": "code",
      "source": [
        "sys.float_info.max + 2 == sys.float_info.max # Shows that adding the maximum 64-bit number with 2, results in the same number. Can not add to the max, so it is equivalent to adding zero."
      ],
      "metadata": {
        "colab": {
          "base_uri": "https://localhost:8080/"
        },
        "id": "JquEJYp08PoG",
        "outputId": "79d44192-b6c9-4689-d8de-f4d9a0e118e6"
      },
      "execution_count": 78,
      "outputs": [
        {
          "output_type": "execute_result",
          "data": {
            "text/plain": [
              "True"
            ]
          },
          "metadata": {},
          "execution_count": 78
        }
      ]
    },
    {
      "cell_type": "code",
      "source": [
        "sys.float_info.max + sys.float_info.max # Shows that adding the maximum to itself results in infinity."
      ],
      "metadata": {
        "colab": {
          "base_uri": "https://localhost:8080/"
        },
        "id": "8uU-LXkI8oPn",
        "outputId": "a8e422fb-fdf8-4637-954c-34694809deee"
      },
      "execution_count": 79,
      "outputs": [
        {
          "output_type": "execute_result",
          "data": {
            "text/plain": [
              "inf"
            ]
          },
          "metadata": {},
          "execution_count": 79
        }
      ]
    },
    {
      "cell_type": "markdown",
      "source": [
        "Underflow: Numbers that are smaller than the smallest subnormal number"
      ],
      "metadata": {
        "id": "f6FAdIqx883r"
      }
    },
    {
      "cell_type": "code",
      "source": [
        "u = 2**(-1075) # Shows that smaller nnumbers will underflow to 0 (zero)\n",
        "u"
      ],
      "metadata": {
        "colab": {
          "base_uri": "https://localhost:8080/"
        },
        "id": "T3folMPd9JQ7",
        "outputId": "fd144c1f-f0f2-4e1f-d9d8-afd8231ea039"
      },
      "execution_count": 83,
      "outputs": [
        {
          "output_type": "execute_result",
          "data": {
            "text/plain": [
              "0.0"
            ]
          },
          "metadata": {},
          "execution_count": 83
        }
      ]
    },
    {
      "cell_type": "code",
      "source": [
        "u == 0 # Verifies that the underflow is 0 (zero)"
      ],
      "metadata": {
        "colab": {
          "base_uri": "https://localhost:8080/"
        },
        "id": "DlmCyV2s9nrM",
        "outputId": "74fc5ade-293f-49d3-ce18-9c0b9b987348"
      },
      "execution_count": 84,
      "outputs": [
        {
          "output_type": "execute_result",
          "data": {
            "text/plain": [
              "True"
            ]
          },
          "metadata": {},
          "execution_count": 84
        }
      ]
    },
    {
      "cell_type": "code",
      "source": [
        "2 ** (-1074) # Shows that 2**-1074 does not underflow to 0 because it is not smaller than the smallest subnormal"
      ],
      "metadata": {
        "id": "ScgEmuNg9_bj"
      },
      "execution_count": null,
      "outputs": []
    },
    {
      "cell_type": "markdown",
      "source": [
        "9.3 Round-Off Errors\n"
      ],
      "metadata": {
        "id": "tSAymLmPttLH"
      }
    },
    {
      "cell_type": "markdown",
      "source": [
        "round-off error: the difference between an approximation of a number used in computation and it's true value.\n"
      ],
      "metadata": {
        "id": "-Wl-pkGktw7m"
      }
    },
    {
      "cell_type": "markdown",
      "source": [
        "Using Floating-Point and Rounding\n"
      ],
      "metadata": {
        "id": "sks4ZXUMuUtD"
      }
    },
    {
      "cell_type": "code",
      "source": [
        "8-7.845 == 0.155 # Prints \"False\" if the value is an approximation\n"
      ],
      "metadata": {
        "colab": {
          "base_uri": "https://localhost:8080/"
        },
        "id": "rjzXs8e8uXRf",
        "outputId": "a9db31d9-6082-4de1-fa41-aa1d8038f4bf"
      },
      "execution_count": 33,
      "outputs": [
        {
          "output_type": "execute_result",
          "data": {
            "text/plain": [
              "False"
            ]
          },
          "metadata": {},
          "execution_count": 33
        }
      ]
    },
    {
      "cell_type": "code",
      "source": [
        "round(8-7.845, 5) == round(0.155, 5) # Prints \"True\" if the rounded values are equivalent."
      ],
      "metadata": {
        "colab": {
          "base_uri": "https://localhost:8080/"
        },
        "id": "6xN__lZNvj8A",
        "outputId": "b6a4363d-ef18-4f93-95b8-e2d830eca237"
      },
      "execution_count": 35,
      "outputs": [
        {
          "output_type": "execute_result",
          "data": {
            "text/plain": [
              "True"
            ]
          },
          "metadata": {},
          "execution_count": 35
        }
      ]
    },
    {
      "cell_type": "markdown",
      "source": [
        "Accumulation of Round-Off Errors\n"
      ],
      "metadata": {
        "id": "sPI8e1aIwJzZ"
      }
    },
    {
      "cell_type": "code",
      "source": [
        "#Doing the calculation Once\n",
        "2 + 1/3 - 1/3"
      ],
      "metadata": {
        "colab": {
          "base_uri": "https://localhost:8080/"
        },
        "id": "51K2M0T_wMDh",
        "outputId": "4b7aaa8f-26c3-4844-bde4-192d373fc416"
      },
      "execution_count": 38,
      "outputs": [
        {
          "output_type": "execute_result",
          "data": {
            "text/plain": [
              "2.0"
            ]
          },
          "metadata": {},
          "execution_count": 38
        }
      ]
    },
    {
      "cell_type": "code",
      "source": [
        "def add_and_subtract(iterations):\n",
        "    result = 2\n",
        "\n",
        "    for i in range(iterations):\n",
        "        result += 1/3\n",
        "\n",
        "    for i in range(iterations):\n",
        "        result -= 1/3\n",
        "    return result\n",
        ""
      ],
      "metadata": {
        "id": "Y6XEAvCNwbPE"
      },
      "execution_count": 56,
      "outputs": []
    },
    {
      "cell_type": "code",
      "source": [
        "add_and_subtract(100) # 100 Iterations"
      ],
      "metadata": {
        "colab": {
          "base_uri": "https://localhost:8080/"
        },
        "id": "TVl6RfojwkoC",
        "outputId": "6c47603f-f143-4250-9f64-56ff74d91056"
      },
      "execution_count": 59,
      "outputs": [
        {
          "output_type": "execute_result",
          "data": {
            "text/plain": [
              "2.0"
            ]
          },
          "metadata": {},
          "execution_count": 59
        }
      ]
    },
    {
      "cell_type": "code",
      "source": [
        "add_and_subtract(1000) # 1000 Iterations"
      ],
      "metadata": {
        "colab": {
          "base_uri": "https://localhost:8080/"
        },
        "id": "pWpSrPVsxAyx",
        "outputId": "076663c2-62d8-467d-e2f5-f5c5f13531d9"
      },
      "execution_count": 60,
      "outputs": [
        {
          "output_type": "execute_result",
          "data": {
            "text/plain": [
              "2.000000000000006"
            ]
          },
          "metadata": {},
          "execution_count": 60
        }
      ]
    },
    {
      "cell_type": "code",
      "source": [
        "add_and_subtract(10000) #10000 Iterations"
      ],
      "metadata": {
        "colab": {
          "base_uri": "https://localhost:8080/"
        },
        "id": "DeXHqDozxDQf",
        "outputId": "048ed682-a2f8-49ba-c34e-4f2d195bf294"
      },
      "execution_count": 61,
      "outputs": [
        {
          "output_type": "execute_result",
          "data": {
            "text/plain": [
              "2.0000000000001164"
            ]
          },
          "metadata": {},
          "execution_count": 61
        }
      ]
    },
    {
      "cell_type": "markdown",
      "source": [
        "As seen above, if we accumulate the errors, they increase exponentially."
      ],
      "metadata": {
        "id": "aPhds5K0xJqw"
      }
    }
  ]
}